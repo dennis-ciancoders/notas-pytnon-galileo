{
 "cells": [
  {
   "cell_type": "code",
   "execution_count": 13,
   "metadata": {},
   "outputs": [],
   "source": [
    "import numpy as np"
   ]
  },
  {
   "cell_type": "markdown",
   "metadata": {},
   "source": [
    "# Laboratorio 1\n",
    "## Practica utilizando NumPy."
   ]
  },
  {
   "cell_type": "markdown",
   "metadata": {},
   "source": [
    "### 1. Escriba una función usando NumPy para calcular la multiplicación de dos matrices dadas"
   ]
  },
  {
   "cell_type": "code",
   "execution_count": 14,
   "metadata": {},
   "outputs": [
    {
     "name": "stdout",
     "output_type": "stream",
     "text": [
      "A:\n",
      " [[1 2 3]\n",
      " [4 5 6]\n",
      " [7 8 9]]\n",
      "B:\n",
      " [[ 5  6]\n",
      " [ 7  8]\n",
      " [ 9 10]]\n",
      "multiplicacion AB:\n",
      " [[ 46  52]\n",
      " [109 124]\n",
      " [172 196]]\n"
     ]
    }
   ],
   "source": [
    "def multiplicar_matrices(A, B):\n",
    "    return np.matmul(A, B)\n",
    "\n",
    "# probar la funcion\n",
    "A = np.array([[1, 2, 3], [4, 5, 6], [7, 8, 9]])\n",
    "B = np.array([[5, 6], [7, 8], [9, 10]])\n",
    "print('A:\\n', A)\n",
    "print('B:\\n', B)\n",
    "print('multiplicacion AB:\\n', multiplicar_matrices(A, B))"
   ]
  },
  {
   "cell_type": "markdown",
   "metadata": {},
   "source": [
    "### 2. Escriba una función usando NumPy para calcular el producto de dos vectores dados"
   ]
  },
  {
   "cell_type": "code",
   "execution_count": 15,
   "metadata": {},
   "outputs": [
    {
     "name": "stdout",
     "output_type": "stream",
     "text": [
      "A:\n",
      " [1 2]\n",
      "B:\n",
      " [3 4]\n",
      "producto AB:  11\n"
     ]
    }
   ],
   "source": [
    "def producto(A, B):\n",
    "    return np.dot(A, B)\n",
    "\n",
    "# probar la funcion\n",
    "A = np.array([1, 2])\n",
    "B = np.array([3, 4])\n",
    "print('A:\\n', A)\n",
    "print('B:\\n', B)\n",
    "print('producto AB: ', producto(A, B))"
   ]
  },
  {
   "cell_type": "markdown",
   "metadata": {},
   "source": [
    "### 3. Escriba una función usando NumPy para calcular el producto vectorial de dos vectores dados"
   ]
  },
  {
   "cell_type": "code",
   "execution_count": 16,
   "metadata": {},
   "outputs": [
    {
     "name": "stdout",
     "output_type": "stream",
     "text": [
      "A:\n",
      " [1 2]\n",
      "B:\n",
      " [3 4]\n",
      "producto AxB:  -2\n"
     ]
    }
   ],
   "source": [
    "def producto_vectorial(A, B):\n",
    "    return np.cross(A, B)\n",
    "\n",
    "# probar la funcion\n",
    "A = np.array([1, 2])\n",
    "B = np.array([3, 4])\n",
    "print('A:\\n', A)\n",
    "print('B:\\n', B)\n",
    "print('producto AxB: ', producto_vectorial(A, B))"
   ]
  },
  {
   "cell_type": "markdown",
   "metadata": {},
   "source": [
    "### 4. función usando NumPy para evaluar la convención de suma de Einstein de dos matrices multidimensionales dadas"
   ]
  },
  {
   "cell_type": "code",
   "execution_count": 17,
   "metadata": {},
   "outputs": [
    {
     "name": "stdout",
     "output_type": "stream",
     "text": [
      "A:\n",
      " [[1 2]\n",
      " [3 4]]\n",
      "B:\n",
      " [[5 6]\n",
      " [7 8]]\n",
      "Suma de einstein:\n",
      " [[19 22]\n",
      " [43 50]]\n"
     ]
    }
   ],
   "source": [
    "def suma_einstein(A, B):\n",
    "    return np.einsum('mk,kn', A, B)\n",
    "\n",
    "# probar la funcion\n",
    "A = np.array([[1, 2], [3, 4]])\n",
    "B = np.array([[5, 6], [7, 8]])\n",
    "print('A:\\n', A)\n",
    "print('B:\\n', B)\n",
    "print('Suma de einstein:\\n',suma_einstein(A, B))"
   ]
  },
  {
   "cell_type": "markdown",
   "metadata": {},
   "source": [
    "### 5. Escriba una función usando NumPy para calcular los valores propios y los vectores propios de una matriz cuadrada dada."
   ]
  },
  {
   "cell_type": "code",
   "execution_count": 18,
   "metadata": {},
   "outputs": [
    {
     "name": "stdout",
     "output_type": "stream",
     "text": [
      "A: [[1 2]\n",
      " [3 4]]\n",
      "valores propios:\n",
      " [-0.37228132  5.37228132]\n",
      "vectores_propios:\n",
      " [[-0.82456484 -0.41597356]\n",
      " [ 0.56576746 -0.90937671]]\n"
     ]
    }
   ],
   "source": [
    "def valores_vectores_propios(A):\n",
    "    return np.linalg.eig(A)\n",
    "\n",
    "\n",
    "# probar la funcion\n",
    "A = np.array([[1, 2], [3, 4]])\n",
    "print('A:', A)\n",
    "\n",
    "valores_propios, vectores_propios = valores_vectores_propios(A)\n",
    "print('valores propios:\\n', valores_propios)\n",
    "print('vectores_propios:\\n', vectores_propios)"
   ]
  },
  {
   "cell_type": "markdown",
   "metadata": {},
   "source": [
    "### 6. Escriba una función usando NumPy para calcular el determinante de una matriz"
   ]
  },
  {
   "cell_type": "code",
   "execution_count": 19,
   "metadata": {},
   "outputs": [
    {
     "name": "stdout",
     "output_type": "stream",
     "text": [
      "A:\n",
      " [[1 2]\n",
      " [3 4]]\n",
      "determinante:  -2.0000000000000004\n"
     ]
    }
   ],
   "source": [
    "def determinante(A):\n",
    "    return np.linalg.det(A)\n",
    "\n",
    "# probar la funcion\n",
    "A = np.array([[1, 2], [3, 4]])\n",
    "print('A:\\n', A)\n",
    "print('determinante: ', determinante(A))"
   ]
  },
  {
   "cell_type": "markdown",
   "metadata": {},
   "source": [
    "### 7. Escriba una función usando NumPy para calcular la inversa de una matriz dada"
   ]
  },
  {
   "cell_type": "code",
   "execution_count": 20,
   "metadata": {},
   "outputs": [
    {
     "name": "stdout",
     "output_type": "stream",
     "text": [
      "A:\n",
      " [[1 2]\n",
      " [3 4]]\n",
      "inversa: \n",
      " [[-2.   1. ]\n",
      " [ 1.5 -0.5]]\n"
     ]
    }
   ],
   "source": [
    "def inversa(A):\n",
    "    return np.linalg.inv(A)\n",
    "\n",
    "# probar la funcion\n",
    "A = np.array([[1, 2], [3, 4]])\n",
    "print('A:\\n', A)\n",
    "print('inversa: \\n', inversa(A))"
   ]
  },
  {
   "cell_type": "markdown",
   "metadata": {},
   "source": [
    "### 8. Escriba una función usando NumPy para calcular la suma del elemento diagonal de una matriz dada."
   ]
  },
  {
   "cell_type": "code",
   "execution_count": 21,
   "metadata": {},
   "outputs": [
    {
     "name": "stdout",
     "output_type": "stream",
     "text": [
      "A:\n",
      " [[1 2 3]\n",
      " [4 5 6]\n",
      " [7 8 9]]\n",
      "suma diagonal:  15\n"
     ]
    }
   ],
   "source": [
    "def suma_diagonal(A):\n",
    "    return np.trace(A)\n",
    "\n",
    "# probar la funcion\n",
    "A = np.array([[1, 2, 3], [4, 5, 6], [7, 8, 9]])\n",
    "print('A:\\n', A)\n",
    "print('suma diagonal: ', suma_diagonal(A))\n"
   ]
  }
 ],
 "metadata": {
  "interpreter": {
   "hash": "842489c61239ca63ea4c0438ae5bf94681cdacadc2697e168cc17c88ead155b9"
  },
  "kernelspec": {
   "display_name": "Python 3.9.2 ('ml-tests-RC2VXNNE-py3.9')",
   "language": "python",
   "name": "python3"
  },
  "language_info": {
   "codemirror_mode": {
    "name": "ipython",
    "version": 3
   },
   "file_extension": ".py",
   "mimetype": "text/x-python",
   "name": "python",
   "nbconvert_exporter": "python",
   "pygments_lexer": "ipython3",
   "version": "3.9.2"
  },
  "orig_nbformat": 4
 },
 "nbformat": 4,
 "nbformat_minor": 2
}
