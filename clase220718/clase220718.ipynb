{
 "cells": [
  {
   "cell_type": "code",
   "execution_count": 87,
   "metadata": {},
   "outputs": [],
   "source": [
    "import numpy as np\n",
    "import matplotlib.pyplot as plt\n",
    "from matplotlib.ticker import NullFormatter\n",
    "import pandas as pd\n",
    "import numpy as np\n",
    "import matplotlib.ticker as ticker\n",
    "from sklearn import preprocessing\n",
    "from sklearn.model_selection import train_test_split\n",
    "from sklearn.neighbors import KNeighborsClassifier\n",
    "from sklearn import metrics\n",
    "import seaborn as sns"
   ]
  },
  {
   "cell_type": "markdown",
   "metadata": {},
   "source": [
    "Artificial Neural Networks - Forward Propagation\n",
    "================================================\n",
    "\n",
    "Intoducción\n",
    "-----------\n",
    "\n",
    "En este laboratorio, estaremos creando redes neurales desde cero, analizaremos su performance y el uso de formward propagation. Nota: Todas las librerias relacionadas a Deep Learning, ya cuentan con las funciones y procedimientos para la creación de las redes neurales, por tanto, en la practica no sera necesario realizar las redes neurales desde cero. El enfoque de este laboratorio es ayudarte a comprender el comportamiento de las redes neurales.\n",
    "\n",
    "Artificial Neural Networks - Forward Propagation\n",
    "------------------------------------------------\n",
    "\n",
    "Resumen\n",
    "\n",
    "De la ultima clase, podemos recapitular como es que las redes neurales funcionan y la importancia de tener una función de propagación. Aqui esta una red neural que contiene dos inputs, contine una \"hidden layer\" con dos nodos y su respectiva salida.\n",
    "\n",
    "![Neural Network Example](http://cocl.us/neural_network_example)\n",
    "\n",
    "Comencemos por inicializar aleatoriamente los pesos y los sesgos en la red. Tenemos 6 pesos y 3 sesgos, uno para cada nodo en la capa oculta y para cada nodo en la capa de salida."
   ]
  },
  {
   "cell_type": "code",
   "execution_count": 88,
   "metadata": {},
   "outputs": [],
   "source": [
    "np.random.seed(12)\n",
    "weights = np.around(np.random.uniform(size=6), decimals=2) # initialize the weights\n",
    "biases = np.around(np.random.uniform(size=3), decimals=2) # initialize the biases"
   ]
  },
  {
   "cell_type": "markdown",
   "metadata": {},
   "source": [
    "Veamos el resultado generado"
   ]
  },
  {
   "cell_type": "code",
   "execution_count": 96,
   "metadata": {},
   "outputs": [
    {
     "name": "stdout",
     "output_type": "stream",
     "text": [
      "[0.15 0.74 0.26 0.53 0.01 0.92]\n",
      "[0.9  0.03 0.96]\n"
     ]
    }
   ],
   "source": [
    "print(weights)\n",
    "print(biases)"
   ]
  },
  {
   "cell_type": "markdown",
   "metadata": {},
   "source": [
    "Ahora que tenemos los pesos y los sesgos definidos para la red, calculemos la salida para una entrada dada, $x_1$ and $x_2$."
   ]
  },
  {
   "cell_type": "code",
   "execution_count": 89,
   "metadata": {},
   "outputs": [
    {
     "name": "stdout",
     "output_type": "stream",
     "text": [
      "x1 is 0.5 and x2 is 0.85\n"
     ]
    }
   ],
   "source": [
    "x_1 = 0.5\n",
    "x_2 = 0.85\n",
    "\n",
    "print('x1 is {} and x2 is {}'.format(x_1, x_2))"
   ]
  },
  {
   "cell_type": "markdown",
   "metadata": {},
   "source": [
    "Comencemos calculando la suma ponderada de las entradas  $z_{1, 1}$, para el primer nodo de la capa oculta."
   ]
  },
  {
   "cell_type": "code",
   "execution_count": 90,
   "metadata": {},
   "outputs": [
    {
     "name": "stdout",
     "output_type": "stream",
     "text": [
      "El peso de la suma de los inputs para el primer nodo de la capa oculta es:\n"
     ]
    }
   ],
   "source": [
    "z1_1 = x_1 * weights[0] + x_2 * weights[1] + biases[0]\n",
    "\n",
    "print('El peso de la suma de los inputs para el primer nodo de la capa oculta es:'.format(z_11))"
   ]
  },
  {
   "cell_type": "markdown",
   "metadata": {},
   "source": [
    "Ahora, completa la suma de los pesos de los imputs  $z_{1, 2}$, para el segundo nodo de la capa oculta. Asigna el valor a z_12"
   ]
  },
  {
   "cell_type": "code",
   "execution_count": 91,
   "metadata": {},
   "outputs": [],
   "source": [
    "z1_2  = x_1 * weights[2] + x_2 * weights[3] + biases[1]"
   ]
  },
  {
   "cell_type": "code",
   "execution_count": 92,
   "metadata": {},
   "outputs": [
    {
     "data": {
      "text/plain": [
       "0.8325766980765932"
      ]
     },
     "execution_count": 92,
     "metadata": {},
     "output_type": "execute_result"
    }
   ],
   "source": [
    "#z2 = a1_1 * w5 + a1_2 * w6 + b1\n",
    "\n",
    "a1_1 = 1 / (1 + np.exp(-z1_1))\n",
    "a1_1"
   ]
  },
  {
   "cell_type": "code",
   "execution_count": 93,
   "metadata": {},
   "outputs": [
    {
     "data": {
      "text/plain": [
       "0.648054850401614"
      ]
     },
     "execution_count": 93,
     "metadata": {},
     "output_type": "execute_result"
    }
   ],
   "source": [
    "a1_2 = 1 / (1 + np.exp(-z1_2))\n",
    "a1_2"
   ]
  },
  {
   "cell_type": "code",
   "execution_count": 94,
   "metadata": {},
   "outputs": [
    {
     "data": {
      "text/plain": [
       "1.5645362293502507"
      ]
     },
     "execution_count": 94,
     "metadata": {},
     "output_type": "execute_result"
    }
   ],
   "source": [
    "z2 = a1_1 * weights[4] + a1_2 * weights[5] + biases[2]\n",
    "z2"
   ]
  },
  {
   "cell_type": "code",
   "execution_count": 95,
   "metadata": {},
   "outputs": [
    {
     "data": {
      "text/plain": [
       "0.827003309039"
      ]
     },
     "execution_count": 95,
     "metadata": {},
     "output_type": "execute_result"
    }
   ],
   "source": [
    "a2 = 1 / (1 + np.exp(-z2))\n",
    "a2"
   ]
  }
 ],
 "metadata": {
  "kernelspec": {
   "display_name": "Python 3.10.5 ('pythondata-ElkPyzMM-py3.10')",
   "language": "python",
   "name": "python3"
  },
  "language_info": {
   "codemirror_mode": {
    "name": "ipython",
    "version": 3
   },
   "file_extension": ".py",
   "mimetype": "text/x-python",
   "name": "python",
   "nbconvert_exporter": "python",
   "pygments_lexer": "ipython3",
   "version": "3.10.5"
  },
  "orig_nbformat": 4,
  "vscode": {
   "interpreter": {
    "hash": "b5c891cd4f68ef213a7b5f847117269620fea06ca1158fbe611802f31c7ef263"
   }
  }
 },
 "nbformat": 4,
 "nbformat_minor": 2
}
